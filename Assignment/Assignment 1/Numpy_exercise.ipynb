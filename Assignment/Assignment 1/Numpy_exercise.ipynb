{
  "nbformat": 4,
  "nbformat_minor": 0,
  "metadata": {
    "colab": {
      "provenance": []
    },
    "kernelspec": {
      "name": "python3",
      "display_name": "Python 3"
    },
    "language_info": {
      "name": "python"
    }
  },
  "cells": [
    {
      "cell_type": "markdown",
      "source": [
        "*Exercise 1: Import numpy*"
      ],
      "metadata": {
        "id": "zxnXkrSI_XOm"
      }
    },
    {
      "cell_type": "code",
      "source": [
        "# Your code\n"
      ],
      "metadata": {
        "id": "gjFK54rn_d2l"
      },
      "execution_count": null,
      "outputs": []
    },
    {
      "cell_type": "markdown",
      "source": [
        "*Exercise 2: How to create a 1D array (values 0 - 9)?*"
      ],
      "metadata": {
        "id": "uqPXF8L-_oFZ"
      }
    },
    {
      "cell_type": "code",
      "source": [
        "# Your code\n"
      ],
      "metadata": {
        "id": "iq5OdMko_lJ0"
      },
      "execution_count": null,
      "outputs": []
    },
    {
      "cell_type": "markdown",
      "source": [
        "*Exercise 3: Replace all odd numbers from array with -100*"
      ],
      "metadata": {
        "id": "XiRq8KNS_o2V"
      }
    },
    {
      "cell_type": "code",
      "source": [
        "# Your code\n",
        "# # input: arr = np.array([0, 1, 2, 3, 4, 5, 6, 7, 8, 9])\n"
      ],
      "metadata": {
        "id": "yEg5I-mg_lP6"
      },
      "execution_count": null,
      "outputs": []
    },
    {
      "cell_type": "markdown",
      "source": [
        "*Exercise 4: Convert a 1D array to a 2D array with 2 rows*"
      ],
      "metadata": {
        "id": "GIFg-PnU_pUQ"
      }
    },
    {
      "cell_type": "code",
      "source": [
        "# Your code\n",
        "# input: np.arange(10)\n",
        "# output array([[0, 1, 2, 3, 4],\n",
        "#                [5, 6, 7, 8, 9]])"
      ],
      "metadata": {
        "id": "QkIMIxIr_lS-"
      },
      "execution_count": null,
      "outputs": []
    },
    {
      "cell_type": "markdown",
      "source": [
        "*Exercise 5: multiply every element of the array in the previous exercise by 5 and add 1*"
      ],
      "metadata": {
        "id": "apiosOUT_qFX"
      }
    },
    {
      "cell_type": "code",
      "source": [
        "# Your code\n"
      ],
      "metadata": {
        "id": "R7YCPmWB_lXU"
      },
      "execution_count": null,
      "outputs": []
    },
    {
      "cell_type": "markdown",
      "source": [
        "*Exercise 6: perform element-wise multiplication of the output arrays in exercises 4 and 5*"
      ],
      "metadata": {
        "id": "g-WxDeRm_qfg"
      }
    },
    {
      "cell_type": "code",
      "source": [
        "# Your code\n"
      ],
      "metadata": {
        "id": "z_PNWdoV_ldI"
      },
      "execution_count": null,
      "outputs": []
    },
    {
      "cell_type": "markdown",
      "source": [
        "*Exercise 7: create a 4x5 array of random numbers with mean = 5 and variance = 2*"
      ],
      "metadata": {
        "id": "xfi0xr1b_rBQ"
      }
    },
    {
      "cell_type": "code",
      "source": [
        "# Your code\n"
      ],
      "metadata": {
        "id": "BhUZWfdi_moo"
      },
      "execution_count": null,
      "outputs": []
    },
    {
      "cell_type": "markdown",
      "source": [
        "*Exercise 8: Get all values smaller than 5 from the array and assign it to a variable*"
      ],
      "metadata": {
        "id": "6K870oce_rjk"
      }
    },
    {
      "cell_type": "code",
      "source": [
        "# Your code\n"
      ],
      "metadata": {
        "id": "87kzXkzw_myQ"
      },
      "execution_count": null,
      "outputs": []
    },
    {
      "cell_type": "markdown",
      "source": [
        "*Exercise 9: Get the sum of all the values in the resulting array*"
      ],
      "metadata": {
        "id": "rVOucSrH_sCS"
      }
    },
    {
      "cell_type": "code",
      "source": [
        "# Your code\n"
      ],
      "metadata": {
        "id": "O1Pwt-dg_m5j"
      },
      "execution_count": null,
      "outputs": []
    },
    {
      "cell_type": "markdown",
      "source": [
        "*Exercise 10: Get the mean of all the values in the resulting array*"
      ],
      "metadata": {
        "id": "n2KEb_c9_sec"
      }
    },
    {
      "cell_type": "code",
      "source": [
        "# Your code\n"
      ],
      "metadata": {
        "id": "F89IGg-l_m_V"
      },
      "execution_count": null,
      "outputs": []
    }
  ]
}