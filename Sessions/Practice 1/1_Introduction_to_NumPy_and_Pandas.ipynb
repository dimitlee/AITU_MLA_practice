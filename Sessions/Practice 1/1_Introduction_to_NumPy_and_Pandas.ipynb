{
  "cells": [
    {
      "cell_type": "markdown",
      "metadata": {
        "id": "6grusgl1tK69"
      },
      "source": [
        "# Introduction to NumPy and Pandas"
      ]
    },
    {
      "cell_type": "markdown",
      "metadata": {
        "id": "V2orB9gRtK6_"
      },
      "source": [
        "## Introduction to NumPy\n",
        "\n",
        "* most fundamental third-party package for scientific computing in Python\n",
        "* multidimensional **array** data structures\n",
        "* associated functions and methods to manipulate them.\n",
        "* Other third-party packages, including **pandas**, use NumPy arrays as backends for more specialized data structures\n",
        "\n",
        "\n",
        "### Comparison to Python\n",
        "\n",
        "* While Python comes with several container types (`list`,`tuple`,`dict`),\n",
        "* NumPy's arrays are implemented closer to the hardware, and are therefore more **efficient** than the built-in types.\n",
        "* This is particularly true for large data, for which NumPy scales much better than Python's built-in data structures.\n",
        "* NumPy arrays also retain a suite of associated functions and methods that allow for efficient *array-oriented* computing."
      ]
    },
    {
      "cell_type": "markdown",
      "metadata": {
        "id": "EV59xIxbtK7A"
      },
      "source": [
        "## Import Convention\n",
        "\n",
        "* By convention numpy is imported"
      ]
    },
    {
      "cell_type": "code",
      "execution_count": null,
      "metadata": {
        "collapsed": true,
        "id": "gdQ-Kan5tK7B"
      },
      "outputs": [],
      "source": [
        "import numpy as np"
      ]
    },
    {
      "cell_type": "markdown",
      "metadata": {
        "id": "oC4MJ7BHtK7C"
      },
      "source": [
        "## NumPy Arrays and Indexing"
      ]
    },
    {
      "cell_type": "markdown",
      "metadata": {
        "id": "_ebx63S_tK7D"
      },
      "source": [
        "* You can index an array in the same way you can index Python lists using **slice notation**"
      ]
    },
    {
      "cell_type": "code",
      "execution_count": null,
      "metadata": {
        "collapsed": true,
        "id": "Yp43GdowtK7E"
      },
      "outputs": [],
      "source": [
        "lst = list(range(1000))\n",
        "arr = np.arange(1000)"
      ]
    },
    {
      "cell_type": "markdown",
      "metadata": {
        "id": "QKKXSACUtK7F"
      },
      "source": [
        "Here's what the array looks like"
      ]
    },
    {
      "cell_type": "code",
      "execution_count": null,
      "metadata": {
        "collapsed": true,
        "id": "WghKWp7ttK7G"
      },
      "outputs": [],
      "source": [
        "arr[:10]"
      ]
    },
    {
      "cell_type": "code",
      "execution_count": null,
      "metadata": {
        "collapsed": true,
        "id": "V3umIwG7tK7H"
      },
      "outputs": [],
      "source": [
        "arr[10:20]"
      ]
    },
    {
      "cell_type": "code",
      "execution_count": null,
      "metadata": {
        "collapsed": true,
        "id": "gE0HZkv8tK7I"
      },
      "outputs": [],
      "source": [
        "arr[10:20:2]"
      ]
    },
    {
      "cell_type": "code",
      "execution_count": null,
      "metadata": {
        "collapsed": true,
        "id": "0sTDDsmGtK7J"
      },
      "outputs": [],
      "source": [
        "type(arr)"
      ]
    },
    {
      "cell_type": "code",
      "execution_count": null,
      "metadata": {
        "collapsed": true,
        "id": "bhPgGTMStK7K"
      },
      "outputs": [],
      "source": [
        "%timeit [i ** 2 for i in lst]"
      ]
    },
    {
      "cell_type": "code",
      "execution_count": null,
      "metadata": {
        "collapsed": true,
        "id": "s53VtC_DtK7K"
      },
      "outputs": [],
      "source": [
        "%timeit arr ** 2"
      ]
    },
    {
      "cell_type": "markdown",
      "metadata": {
        "id": "js4xVrCStK7L"
      },
      "source": [
        "We can index arrays in the same ways as lists"
      ]
    },
    {
      "cell_type": "code",
      "execution_count": null,
      "metadata": {
        "collapsed": true,
        "id": "SvnXZniXtK7L"
      },
      "outputs": [],
      "source": [
        "arr[5:10]"
      ]
    },
    {
      "cell_type": "code",
      "execution_count": null,
      "metadata": {
        "collapsed": true,
        "id": "8JPjG1IDtK7L"
      },
      "outputs": [],
      "source": [
        "arr[-1]"
      ]
    },
    {
      "cell_type": "markdown",
      "metadata": {
        "id": "NA7ZCwSGtK7M"
      },
      "source": [
        "### Arrays vs Lists"
      ]
    },
    {
      "cell_type": "markdown",
      "metadata": {
        "id": "eocbTKUDtK7M"
      },
      "source": [
        "* arrays are **homogeneously typed**\n",
        "  * all elements of an array must be of the same type.  \n",
        "  * we see why when we think about the memory layout\n",
        "* lists can contain elements of arbitrary type"
      ]
    },
    {
      "cell_type": "code",
      "execution_count": null,
      "metadata": {
        "collapsed": true,
        "id": "QjyinmHrtK7N"
      },
      "outputs": [],
      "source": [
        "['a', 2, (1, 3)]"
      ]
    },
    {
      "cell_type": "code",
      "execution_count": null,
      "metadata": {
        "collapsed": true,
        "id": "o4wIlDLhtK7N"
      },
      "outputs": [],
      "source": [
        "lst[0] = 'some other type'"
      ]
    },
    {
      "cell_type": "code",
      "execution_count": null,
      "metadata": {
        "collapsed": true,
        "id": "AjQl6rlItK7N"
      },
      "outputs": [],
      "source": [
        "lst[:3]"
      ]
    },
    {
      "cell_type": "markdown",
      "metadata": {
        "id": "I90-90KstK7N"
      },
      "source": [
        "* We can't do this with an array"
      ]
    },
    {
      "cell_type": "code",
      "execution_count": null,
      "metadata": {
        "collapsed": true,
        "id": "apZ_c-iUtK7O"
      },
      "outputs": [],
      "source": [
        "arr[0] = 'some other type'"
      ]
    },
    {
      "cell_type": "markdown",
      "metadata": {
        "id": "n3tjlukdtK7O"
      },
      "source": [
        "* The data type is contained in the `dtype` attribute"
      ]
    },
    {
      "cell_type": "code",
      "execution_count": null,
      "metadata": {
        "collapsed": true,
        "id": "qVbTWf0ttK7P"
      },
      "outputs": [],
      "source": [
        "arr.dtype"
      ]
    },
    {
      "cell_type": "markdown",
      "metadata": {
        "id": "KM4tbHUPtK7P"
      },
      "source": [
        "* The dtype is fixed\n",
        "* Other types will be cast to this type"
      ]
    },
    {
      "cell_type": "code",
      "execution_count": null,
      "metadata": {
        "collapsed": true,
        "id": "XQSVzKMDtK7P"
      },
      "outputs": [],
      "source": [
        "arr[0] = 1.234"
      ]
    },
    {
      "cell_type": "code",
      "execution_count": null,
      "metadata": {
        "collapsed": true,
        "id": "LFeQYbiGtK7P"
      },
      "outputs": [],
      "source": [
        "arr[:10]"
      ]
    },
    {
      "cell_type": "markdown",
      "metadata": {
        "id": "fLXLCG9atK7Q"
      },
      "source": [
        "### Array Creation"
      ]
    },
    {
      "cell_type": "code",
      "execution_count": null,
      "metadata": {
        "collapsed": true,
        "id": "0SpbFD1ytK7R"
      },
      "outputs": [],
      "source": [
        "np.zeros(5, dtype=float)"
      ]
    },
    {
      "cell_type": "code",
      "execution_count": null,
      "metadata": {
        "collapsed": true,
        "id": "1Lwg8LUttK7R"
      },
      "outputs": [],
      "source": [
        "np.zeros(5, dtype=int)"
      ]
    },
    {
      "cell_type": "code",
      "execution_count": null,
      "metadata": {
        "collapsed": true,
        "id": "bJ--dHWktK7R"
      },
      "outputs": [],
      "source": [
        "np.zeros(5, dtype=complex)"
      ]
    },
    {
      "cell_type": "code",
      "execution_count": null,
      "metadata": {
        "collapsed": true,
        "id": "PqPmIbxttK7R"
      },
      "outputs": [],
      "source": [
        "np.ones(5, dtype=float)"
      ]
    },
    {
      "cell_type": "markdown",
      "metadata": {
        "id": "4C6pNVwFtK7S"
      },
      "source": [
        "* We have seen how the `arange` function generates an array for a range of integers.\n",
        "* `linspace` and `logspace` functions to create linearly and logarithmically-spaced **grids** respectively, with a fixed number of points and including both ends of the specified interval:"
      ]
    },
    {
      "cell_type": "code",
      "execution_count": null,
      "metadata": {
        "collapsed": true,
        "id": "j20eT0L9tK7S"
      },
      "outputs": [],
      "source": [
        "np.linspace(0, 1, num=5)"
      ]
    },
    {
      "cell_type": "code",
      "execution_count": null,
      "metadata": {
        "collapsed": true,
        "id": "L5A1iUZXtK7T"
      },
      "outputs": [],
      "source": [
        "np.logspace(1, 4, num=4)"
      ]
    },
    {
      "cell_type": "markdown",
      "metadata": {
        "id": "I668eX_JtK7T"
      },
      "source": [
        "### Random Number Generation"
      ]
    },
    {
      "cell_type": "markdown",
      "metadata": {
        "id": "_hWjV_7htK7T"
      },
      "source": [
        "Finally, it is often useful to create arrays with random numbers that follow a specific **distribution**.  The `np.random` module contains a number of functions that can be used to this effect, for example this will produce an array of 5 random samples taken from a **standard normal** distribution (0 mean and variance 1) $ X \\sim N(0, 1) $:\n",
        "\n",
        "$$f(x \\mid \\mu=0, \\sigma=1) = \\sqrt{\\frac{1}{2\\pi \\sigma^2}} \\exp\\left\\{ -\\frac{x^2}{2\\sigma^2} \\right\\}$$"
      ]
    },
    {
      "cell_type": "code",
      "execution_count": null,
      "metadata": {
        "collapsed": true,
        "id": "WkMA5SkktK7T"
      },
      "outputs": [],
      "source": [
        "np.random.randn(5)"
      ]
    },
    {
      "cell_type": "markdown",
      "metadata": {
        "id": "3rGvmN1PtK7U"
      },
      "source": [
        "$X \\sim N(9, 3)$"
      ]
    },
    {
      "cell_type": "code",
      "execution_count": null,
      "metadata": {
        "collapsed": true,
        "id": "HLAFo7a-tK7U"
      },
      "outputs": [],
      "source": [
        "norm10 = np.random.normal(loc=9, scale=3, size=10)"
      ]
    },
    {
      "cell_type": "markdown",
      "metadata": {
        "id": "2V3oXt8KtK7U"
      },
      "source": [
        "## Exercise: Random numbers\n",
        "\n",
        "Generate a NumPy array of 1000 random numbers sampled from a Poisson distribution, with parameter `lam=5`. What is the modal value in the sample?"
      ]
    },
    {
      "cell_type": "code",
      "execution_count": null,
      "metadata": {
        "collapsed": true,
        "id": "l6EiO7_otK7U"
      },
      "outputs": [],
      "source": [
        "import numpy as np\n",
        "\n",
        "y = np.random.poisson(lam=5, size=1000)\n",
        "bins = np.bincount(y)\n",
        "bins.argmax()\n",
        "y\n"
      ]
    },
    {
      "cell_type": "markdown",
      "metadata": {
        "id": "8YsWcQJHtK7V"
      },
      "source": [
        "## Index Arrays"
      ]
    },
    {
      "cell_type": "markdown",
      "metadata": {
        "id": "PYAWYdQhtK7V"
      },
      "source": [
        "* Above we showed how to index with numbers and **slices**\n",
        "* NumPy indexing is much more powerful than Python indexing\n",
        "* You can index with other arrays\n",
        "  * Boolean arrays\n",
        "  * Integer arrays"
      ]
    },
    {
      "cell_type": "markdown",
      "metadata": {
        "id": "f6jwsTxUtK7V"
      },
      "source": [
        "Consider for example that in the array `norm10` we want to replace all values above 9 with the value 0.  We can do so by first finding the *mask* that indicates where this condition is `True` or `False`:"
      ]
    },
    {
      "cell_type": "markdown",
      "metadata": {
        "id": "ZUXDlE-DtK7V"
      },
      "source": [
        "### Boolean Indexing"
      ]
    },
    {
      "cell_type": "code",
      "execution_count": null,
      "metadata": {
        "collapsed": true,
        "id": "XhN0UHIktK7W"
      },
      "outputs": [],
      "source": [
        "mask = norm10 > 9\n",
        "mask"
      ]
    },
    {
      "cell_type": "code",
      "execution_count": null,
      "metadata": {
        "collapsed": true,
        "id": "CFjZizDXtK7W"
      },
      "outputs": [],
      "source": [
        "norm10[mask]"
      ]
    },
    {
      "cell_type": "markdown",
      "metadata": {
        "id": "ZvKWnaiatK7W"
      },
      "source": [
        "### Integer Indexing"
      ]
    },
    {
      "cell_type": "markdown",
      "metadata": {
        "id": "0GHlGhmntK7W"
      },
      "source": [
        "* Likewise you can index with integer arrays"
      ]
    },
    {
      "cell_type": "code",
      "execution_count": null,
      "metadata": {
        "collapsed": true,
        "id": "8i7yLEkRtK7X"
      },
      "outputs": [],
      "source": [
        "norm10[[1, 4, 6]]"
      ]
    },
    {
      "cell_type": "markdown",
      "metadata": {
        "id": "0RelVTHTtK7X"
      },
      "source": [
        "### Asssignment"
      ]
    },
    {
      "cell_type": "markdown",
      "metadata": {
        "id": "kwP5fYZctK7X"
      },
      "source": [
        "* This form of indexing is known as **fancy-indexing**\n",
        "* You can use fancy-indexing for assignment\n",
        "  * This is particularly useful for assignment given some condition"
      ]
    },
    {
      "cell_type": "code",
      "execution_count": null,
      "metadata": {
        "collapsed": true,
        "id": "qGUTfuIAtK7X"
      },
      "outputs": [],
      "source": [
        "norm10[norm10 > 9] = 0"
      ]
    },
    {
      "cell_type": "code",
      "execution_count": null,
      "metadata": {
        "collapsed": true,
        "id": "OFjemnjItK7X"
      },
      "outputs": [],
      "source": [
        "norm10"
      ]
    },
    {
      "cell_type": "code",
      "execution_count": null,
      "metadata": {
        "collapsed": true,
        "id": "eFe8P5-ktK7Y"
      },
      "outputs": [],
      "source": [
        "norm10[[1, 4, 7]] = 10"
      ]
    },
    {
      "cell_type": "code",
      "execution_count": null,
      "metadata": {
        "collapsed": true,
        "id": "sERxO8qCtK7Y"
      },
      "outputs": [],
      "source": [
        "norm10"
      ]
    },
    {
      "cell_type": "markdown",
      "metadata": {
        "id": "Y_IV70bztK7Y"
      },
      "source": [
        "### Copies vs Views\n",
        "\n",
        "* This is a common **gotcha** for people new to NumPy\n",
        "* While lvalue fancy-indexing in the case of assignment does not copy\n",
        "  * Just `__setitem__`\n",
        "* rvalue fancy-indexing produces a copy not a view\n",
        "  * `__getitem__` followed by `__setitem__`"
      ]
    },
    {
      "cell_type": "markdown",
      "metadata": {
        "id": "Jt_yiQ2btK7Y"
      },
      "source": [
        "* When we use slice notation to look at part of an array, it produces a **view**\n",
        "* That is, it points to the same memory of the original array"
      ]
    },
    {
      "cell_type": "code",
      "execution_count": null,
      "metadata": {
        "collapsed": true,
        "id": "KAGQo4lTtK7Y"
      },
      "outputs": [],
      "source": [
        "x = np.arange(10)"
      ]
    },
    {
      "cell_type": "code",
      "execution_count": null,
      "metadata": {
        "collapsed": true,
        "id": "ctmntHU2tK7Z"
      },
      "outputs": [],
      "source": [
        "x"
      ]
    },
    {
      "cell_type": "code",
      "execution_count": null,
      "metadata": {
        "collapsed": true,
        "id": "cD_htM89tK7Z"
      },
      "outputs": [],
      "source": [
        "y = x[::2]\n",
        "y"
      ]
    },
    {
      "cell_type": "code",
      "execution_count": null,
      "metadata": {
        "collapsed": true,
        "id": "Ig1lDl2dtK7Z"
      },
      "outputs": [],
      "source": [
        "y[3] = 100\n",
        "y"
      ]
    },
    {
      "cell_type": "code",
      "execution_count": null,
      "metadata": {
        "collapsed": true,
        "id": "aECeeCF_tK7a"
      },
      "outputs": [],
      "source": [
        "x"
      ]
    },
    {
      "cell_type": "markdown",
      "metadata": {
        "id": "vw9Pxm7AtK7b"
      },
      "source": [
        "* This, however, produces a **copy**\n",
        "* Operating on the copy will not affect the original array"
      ]
    },
    {
      "cell_type": "code",
      "execution_count": null,
      "metadata": {
        "collapsed": true,
        "id": "otCLpLndtK7b"
      },
      "outputs": [],
      "source": [
        "a = norm10[[0, 1, 5]]"
      ]
    },
    {
      "cell_type": "code",
      "execution_count": null,
      "metadata": {
        "collapsed": true,
        "id": "wEQxAHy7tK7b"
      },
      "outputs": [],
      "source": [
        "a"
      ]
    },
    {
      "cell_type": "code",
      "execution_count": null,
      "metadata": {
        "collapsed": true,
        "id": "quChVn4QtK7b"
      },
      "outputs": [],
      "source": [
        "a[:] = -10"
      ]
    },
    {
      "cell_type": "code",
      "execution_count": null,
      "metadata": {
        "collapsed": true,
        "id": "1l_Wr7OYtK7d"
      },
      "outputs": [],
      "source": [
        "a"
      ]
    },
    {
      "cell_type": "code",
      "execution_count": null,
      "metadata": {
        "collapsed": true,
        "id": "gI_AGPP0tK7d"
      },
      "outputs": [],
      "source": [
        "norm10"
      ]
    },
    {
      "cell_type": "markdown",
      "metadata": {
        "id": "5Yz65o1AtK7d"
      },
      "source": [
        "### Exercise\n",
        "\n",
        "Create an array `[0, 1, 2, 3, 4, 5, 6, 7, 8, 9]` without typing the values by hand. Assign 100 to elements 2 to 5 (zero-index). Print the array.\n",
        "\n",
        "\n",
        "Create the same array as in step one above. Create an array from a slice of elements 2 to 5. Assign 100 to the slice. *Hint* try `[:]` to address all of the *elements* of an array. Print the original array and the slice."
      ]
    },
    {
      "cell_type": "code",
      "execution_count": null,
      "metadata": {
        "collapsed": true,
        "id": "7zUsQVBOtK7e"
      },
      "outputs": [],
      "source": [
        "# [Solution here]"
      ]
    },
    {
      "cell_type": "markdown",
      "metadata": {
        "id": "PBA4Od5btK7e"
      },
      "source": [
        "## Multidimensional Arrays"
      ]
    },
    {
      "cell_type": "markdown",
      "metadata": {
        "id": "RnneUrFStK7e"
      },
      "source": [
        "* NumPy can create arrays of aribtrary dimensions, and all the methods illustrated in the previous section work with more than one dimension.\n",
        "* For example, a list of lists can be used to initialize a two dimensional array:"
      ]
    },
    {
      "cell_type": "code",
      "execution_count": null,
      "metadata": {
        "collapsed": true,
        "id": "DQf5F2mrtK7f"
      },
      "outputs": [],
      "source": [
        "samples_list = [[632, 1638, 569, 115], [433,1130,754,555]]\n",
        "samples_array = np.array(samples_list)\n",
        "samples_array.shape"
      ]
    },
    {
      "cell_type": "code",
      "execution_count": null,
      "metadata": {
        "collapsed": true,
        "id": "_k83g44CtK7f"
      },
      "outputs": [],
      "source": [
        "print(samples_array)"
      ]
    },
    {
      "cell_type": "markdown",
      "metadata": {
        "id": "wZWNmbKmtK7f"
      },
      "source": [
        "With two-dimensional arrays we start seeing the convenience of NumPy data structures: while a nested list can be indexed across dimensions using consecutive `[ ]` operators, multidimensional arrays support a more natural indexing syntax with a single set of brackets and a set of comma-separated indices:"
      ]
    },
    {
      "cell_type": "code",
      "execution_count": null,
      "metadata": {
        "collapsed": true,
        "id": "NyaEkm5ZtK7f"
      },
      "outputs": [],
      "source": [
        "samples_list[0][1]"
      ]
    },
    {
      "cell_type": "code",
      "execution_count": null,
      "metadata": {
        "collapsed": true,
        "id": "1YohdL49tK7f"
      },
      "outputs": [],
      "source": [
        "samples_array[0,1]"
      ]
    },
    {
      "cell_type": "markdown",
      "metadata": {
        "id": "w5lO35dstK7g"
      },
      "source": [
        "Most of the array creation functions listed above can be passed multidimensional shapes. For example:"
      ]
    },
    {
      "cell_type": "code",
      "execution_count": null,
      "metadata": {
        "collapsed": true,
        "id": "5fEqD5EetK7g"
      },
      "outputs": [],
      "source": [
        "np.zeros((2,3))"
      ]
    },
    {
      "cell_type": "code",
      "execution_count": null,
      "metadata": {
        "collapsed": true,
        "id": "C546U3-dtK7g"
      },
      "outputs": [],
      "source": [
        "np.random.normal(10, 3, size=(2, 4))"
      ]
    },
    {
      "cell_type": "markdown",
      "metadata": {
        "id": "Q6nYECTCtK7g"
      },
      "source": [
        "In fact, an array can be **reshaped** at any time, as long as the total number of elements is unchanged.  For example, if we want a 2x4 array with numbers increasing from 0, the easiest way to create it is via the array's `reshape` method."
      ]
    },
    {
      "cell_type": "code",
      "execution_count": null,
      "metadata": {
        "collapsed": true,
        "id": "qE93Sfy3tK7g"
      },
      "outputs": [],
      "source": [
        "arr = np.arange(8).reshape(2,4)\n",
        "arr"
      ]
    },
    {
      "cell_type": "markdown",
      "metadata": {
        "id": "rKna9GAdtK7g"
      },
      "source": [
        "With multidimensional arrays, you can also use slices, and you can mix and match slices and single indices in the different dimensions (using the same array as above):"
      ]
    },
    {
      "cell_type": "code",
      "execution_count": null,
      "metadata": {
        "collapsed": true,
        "id": "lMUZ8fn-tK7h"
      },
      "outputs": [],
      "source": [
        "arr[1, 2:4]"
      ]
    },
    {
      "cell_type": "code",
      "execution_count": null,
      "metadata": {
        "collapsed": true,
        "id": "HQCMsbz7tK7h"
      },
      "outputs": [],
      "source": [
        "arr[:, 2]"
      ]
    },
    {
      "cell_type": "markdown",
      "metadata": {
        "id": "ZilQNVwYtK7i"
      },
      "source": [
        "If you only provide one index, then you will get the corresponding row."
      ]
    },
    {
      "cell_type": "code",
      "execution_count": null,
      "metadata": {
        "collapsed": true,
        "id": "tL5T5VtetK7i"
      },
      "outputs": [],
      "source": [
        "arr[1]"
      ]
    },
    {
      "cell_type": "markdown",
      "metadata": {
        "id": "sCMayhO5tK7i"
      },
      "source": [
        "Now that we have seen how to create arrays with more than one dimension, it's a good idea to look at some of the most useful **properties and methods** that arrays have.  The following provide basic information about the size, shape and data in the array:"
      ]
    },
    {
      "cell_type": "code",
      "execution_count": null,
      "metadata": {
        "collapsed": true,
        "id": "CIPb8oYdtK7i"
      },
      "outputs": [],
      "source": [
        "print('Data type                :', samples_array.dtype)\n",
        "print('Total number of elements :', samples_array.size)\n",
        "print('Number of dimensions     :', samples_array.ndim)\n",
        "print('Shape (dimensionality)   :', samples_array.shape)\n",
        "print('Memory used (in bytes)   :', samples_array.nbytes)"
      ]
    },
    {
      "cell_type": "markdown",
      "metadata": {
        "id": "cmxWsv_otK7j"
      },
      "source": [
        "Arrays also have many useful methods, some especially useful ones are:"
      ]
    },
    {
      "cell_type": "code",
      "execution_count": null,
      "metadata": {
        "collapsed": true,
        "id": "BCpxchyKtK7k"
      },
      "outputs": [],
      "source": [
        "print('Minimum and maximum             :', samples_array.min(), samples_array.max())\n",
        "print('Sum, mean and standard deviation:', samples_array.sum(), samples_array.mean(), samples_array.std())"
      ]
    },
    {
      "cell_type": "markdown",
      "metadata": {
        "id": "pO9FYZiUtK7k"
      },
      "source": [
        "For these methods, the above operations area all computed on all the elements of the array.  But for a multidimensional array, it's possible to do the computation along a single dimension, by passing the `axis` parameter; for example:"
      ]
    },
    {
      "cell_type": "code",
      "execution_count": null,
      "metadata": {
        "collapsed": true,
        "id": "IT9pn7TGtK7k"
      },
      "outputs": [],
      "source": [
        "samples_array.sum(axis=0)"
      ]
    },
    {
      "cell_type": "code",
      "execution_count": null,
      "metadata": {
        "collapsed": true,
        "id": "Qq7k2NcbtK7l"
      },
      "outputs": [],
      "source": [
        "samples_array.sum(axis=1)"
      ]
    },
    {
      "cell_type": "markdown",
      "metadata": {
        "id": "PMoY2P-WtK7l"
      },
      "source": [
        "* Notice that summing over the rows returned a 1d array above.\n",
        "* If you want to preserve the dimensions use the `keepdims` keyword"
      ]
    },
    {
      "cell_type": "code",
      "execution_count": null,
      "metadata": {
        "collapsed": true,
        "id": "XdKBmt6OtK7l"
      },
      "outputs": [],
      "source": [
        "samples_array.sum(axis=0, keepdims=True)"
      ]
    },
    {
      "cell_type": "markdown",
      "metadata": {
        "id": "oxEmlxE0tK7l"
      },
      "source": [
        "Another widely used property of arrays is the `.T` attribute, which allows you to access the transpose of the array:"
      ]
    },
    {
      "cell_type": "code",
      "execution_count": null,
      "metadata": {
        "collapsed": true,
        "id": "Q1yQcBz7tK7l"
      },
      "outputs": [],
      "source": [
        "samples_array.T"
      ]
    },
    {
      "cell_type": "markdown",
      "metadata": {
        "id": "5ECqjJjNtK7m"
      },
      "source": [
        "There is a wide variety of methods and properties of arrays.       "
      ]
    },
    {
      "cell_type": "code",
      "execution_count": null,
      "metadata": {
        "collapsed": true,
        "id": "i0O3-yb9tK7m"
      },
      "outputs": [],
      "source": [
        "[attr for attr in dir(samples_array) if not attr.startswith('__')]"
      ]
    },
    {
      "cell_type": "markdown",
      "metadata": {
        "id": "_Lsbr1XZtK7n"
      },
      "source": [
        "### Exercises: Matrix Creation\n",
        "\n",
        "Generate the following structure as a numpy array, without typing the values by hand. Then, create another array containing just the 2nd and 4th rows.\n",
        "\n",
        "        [[1,  6, 11],\n",
        "         [2,  7, 12],\n",
        "         [3,  8, 13],\n",
        "         [4,  9, 14],\n",
        "         [5, 10, 15]]"
      ]
    },
    {
      "cell_type": "code",
      "execution_count": null,
      "metadata": {
        "id": "izl21f1twSAL"
      },
      "outputs": [],
      "source": [
        "# Exercise code"
      ]
    },
    {
      "cell_type": "markdown",
      "metadata": {
        "id": "Gm90Od42tK7n"
      },
      "source": [
        "## Array Operations, Methods, and Functions"
      ]
    },
    {
      "cell_type": "code",
      "execution_count": null,
      "metadata": {
        "collapsed": true,
        "id": "TS5HWaIjtK7n"
      },
      "outputs": [],
      "source": [
        "sample1 = np.array([632, 1638, 569, 115])\n",
        "sample2 = np.array([433,1130,754,555])\n",
        "\n",
        "sample_sum = sample1 + sample2"
      ]
    },
    {
      "cell_type": "code",
      "execution_count": null,
      "metadata": {
        "collapsed": true,
        "id": "IyxRyVBwtK7o"
      },
      "outputs": [],
      "source": [
        "sample_sum"
      ]
    },
    {
      "cell_type": "markdown",
      "metadata": {
        "id": "HytYYgLTtK7o"
      },
      "source": [
        "This includes the multiplication operator -- it does not perform matrix multiplication, as is the case in Matlab, for example:\n",
        "\n",
        "\n"
      ]
    },
    {
      "cell_type": "code",
      "execution_count": null,
      "metadata": {
        "collapsed": true,
        "id": "_Svv61Z8tK7o"
      },
      "outputs": [],
      "source": [
        "print('{0} X {1} = {2}'.format(sample1, sample2, sample1 * sample2))"
      ]
    },
    {
      "cell_type": "markdown",
      "metadata": {
        "id": "-w0u-5qGtK7o"
      },
      "source": [
        "In Python 3.5, you can use the `@` operator to get the inner product (or matrix multiplication) (!)"
      ]
    },
    {
      "cell_type": "code",
      "execution_count": null,
      "metadata": {
        "collapsed": true,
        "id": "2bkT1N6OtK7o"
      },
      "outputs": [],
      "source": [
        "print('{0} . {1} = {2}'.format(sample1, sample2, sample1 @ sample2))"
      ]
    },
    {
      "cell_type": "markdown",
      "metadata": {
        "id": "kf4r6L9AtK7p"
      },
      "source": [
        "* this implies that the dimension of the arrays for each operation must match in size,\n",
        "* numpy will **broadcast** dimensions when possible\n",
        "* For example, suppose that you want to add the number 1.5 to each element arr1\n",
        "* We achieve this by **broadcasting**"
      ]
    },
    {
      "cell_type": "code",
      "execution_count": null,
      "metadata": {
        "collapsed": true,
        "id": "ItYJcSyMtK7p"
      },
      "outputs": [],
      "source": [
        "sample1 + 1.5"
      ]
    },
    {
      "cell_type": "markdown",
      "metadata": {
        "id": "iK3_0uwEtK7p"
      },
      "source": [
        "In this case, numpy looked at both operands and saw that the first was a one-dimensional array of length 4 and the second was a scalar, considered a zero-dimensional object. The broadcasting rules allow numpy to:\n",
        "\n",
        "* create new array of length 1\n",
        "* extend the array to match the size of the corresponding array\n",
        "\n",
        "So in the above example, the scalar 1.5 is effectively cast to a 1-dimensional array of length 1, then stretched to length 4 to match the dimension of arr1. After this, element-wise addition can proceed as now both operands are one-dimensional arrays of length 4.\n",
        "\n",
        "This broadcasting behavior is powerful, especially because when NumPy broadcasts to create new dimensions or to stretch existing ones, it doesn't actually replicate the data. In the example above the operation is carried as if the 1.5 was a 1-d array with 1.5 in all of its entries, but no actual array was ever created. This saves memory and improves the performance of operations.\n",
        "\n",
        "When broadcasting, NumPy compares the sizes of each dimension in each operand. It starts with the trailing dimensions, working forward and creating dimensions as needed to accomodate the operation. Two dimensions are considered compatible for operation when:\n",
        "\n",
        "* they are equal in size\n",
        "* one is scalar (or size 1)\n",
        "\n",
        "If these conditions are not met, an exception is thrown, indicating that the arrays have incompatible shapes."
      ]
    },
    {
      "cell_type": "code",
      "execution_count": null,
      "metadata": {
        "collapsed": true,
        "id": "iWgEVkw4tK7q"
      },
      "outputs": [],
      "source": [
        "sample1 + np.array([7,8])"
      ]
    },
    {
      "cell_type": "code",
      "execution_count": null,
      "metadata": {
        "collapsed": true,
        "id": "-VYfwDowtK7q"
      },
      "outputs": [],
      "source": [
        "b = np.array([10, 20, 30, 40])\n",
        "\n",
        "bcast_sum = sample1 + b"
      ]
    },
    {
      "cell_type": "code",
      "execution_count": null,
      "metadata": {
        "collapsed": true,
        "id": "JnEdKMGItK7q"
      },
      "outputs": [],
      "source": [
        "print('{0}\\n\\n+ {1}\\n{2}\\n{3}'.format(sample1, b, '-'*21, bcast_sum))"
      ]
    },
    {
      "cell_type": "code",
      "execution_count": null,
      "metadata": {
        "collapsed": true,
        "id": "ObdxikmUtK7q"
      },
      "outputs": [],
      "source": [
        "c = np.array([-100, 100])\n",
        "sample1 + c"
      ]
    },
    {
      "cell_type": "markdown",
      "metadata": {
        "id": "ZWNDmkl2tK7q"
      },
      "source": [
        "Remember that matching begins at the **trailing** dimensions. Here, c would need to have a trailing dimension of 1 for the broadcasting to work. We can augment arrays with dimensions on the fly, by indexing it with a np.newaxis object, which adds an \"empty\" dimension:"
      ]
    },
    {
      "cell_type": "code",
      "execution_count": null,
      "metadata": {
        "collapsed": true,
        "id": "YgAn7jOltK7r"
      },
      "outputs": [],
      "source": [
        "cplus = c[:, np.newaxis]\n",
        "cplus"
      ]
    },
    {
      "cell_type": "code",
      "execution_count": null,
      "metadata": {
        "collapsed": true,
        "id": "DGGY9rMptK7r"
      },
      "outputs": [],
      "source": [
        "cplus.shape"
      ]
    },
    {
      "cell_type": "code",
      "execution_count": null,
      "metadata": {
        "collapsed": true,
        "id": "7MvoyNuQtK7r"
      },
      "outputs": [],
      "source": [
        "sample1 + cplus"
      ]
    },
    {
      "cell_type": "code",
      "execution_count": null,
      "metadata": {
        "collapsed": true,
        "id": "Yg77K4uttK7r"
      },
      "outputs": [],
      "source": [
        "sample1[:, np.newaxis] + c"
      ]
    },
    {
      "cell_type": "markdown",
      "metadata": {
        "id": "ptr_EQ6OtK7s"
      },
      "source": [
        "### What Else\n",
        "\n",
        "* NumPy provides *much* more functionality than what we covered here\n",
        "* For example, facilities for **linear algebra**, **FFTs**, **polynomials**, and **unit testing** for floating point"
      ]
    },
    {
      "cell_type": "markdown",
      "metadata": {
        "id": "3Vajr4dItK7s"
      },
      "source": [
        "## Introduction to Pandas"
      ]
    },
    {
      "cell_type": "markdown",
      "metadata": {
        "id": "In8Fg5J4tK7t"
      },
      "source": [
        "**pandas** is a Python package providing fast, flexible, and expressive data structures designed to work with *relational* or *labeled* data both. It is a fundamental high-level building block for doing practical, real world data analysis in Python.\n",
        "\n",
        "pandas is well suited for:\n",
        "\n",
        "- **Tabular** data with heterogeneously-typed columns, as you might find in an SQL table or Excel spreadsheet\n",
        "- Ordered and unordered (not necessarily fixed-frequency) **time series** data.\n",
        "- Arbitrary **matrix** data with row and column labels\n",
        "\n",
        "Virtually any statistical dataset, labeled or unlabeled, can be converted to a pandas data structure for cleaning, transformation, and analysis.\n",
        "\n",
        "\n",
        "### Key features\n",
        "    \n",
        "- Easy handling of **missing data**\n",
        "- **Size mutability**: columns can be inserted and deleted from DataFrame and higher dimensional objects\n",
        "- Automatic and explicit **data alignment**: objects can be explicitly aligned to a set of labels, or the data can be aligned automatically\n",
        "- Powerful, flexible **group by functionality** to perform split-apply-combine operations on data sets\n",
        "- Intelligent label-based **slicing, fancy indexing, and subsetting** of large data sets\n",
        "- Intuitive **merging and joining** data sets\n",
        "- Flexible **reshaping and pivoting** of data sets\n",
        "- **Hierarchical labeling** of axes\n",
        "- Robust **IO tools** for loading data from flat files, Excel files, databases, and HDF5\n",
        "- **Time series functionality**: date range generation and frequency conversion, moving window statistics, moving window linear regressions, date shifting and lagging, etc."
      ]
    },
    {
      "cell_type": "markdown",
      "metadata": {
        "id": "ND3YLjhTtK7t"
      },
      "source": [
        "### Import Convention"
      ]
    },
    {
      "cell_type": "code",
      "execution_count": 1,
      "metadata": {
        "collapsed": true,
        "id": "tSiYGBZitK7u"
      },
      "outputs": [],
      "source": [
        "import pandas as pd"
      ]
    },
    {
      "cell_type": "markdown",
      "metadata": {
        "id": "82u3ke8JtK7u"
      },
      "source": [
        "## Pandas Series"
      ]
    },
    {
      "cell_type": "markdown",
      "metadata": {
        "id": "1QtptSLetK7u"
      },
      "source": [
        "* A pandas Series is a generationalization of 1d numpy array\n",
        "* A series has an *index* that labels each element in the vector.\n",
        "* A `Series` can be thought of as an ordered key-value store."
      ]
    },
    {
      "cell_type": "code",
      "execution_count": null,
      "metadata": {
        "collapsed": true,
        "id": "bhc5-kLBtK7v"
      },
      "outputs": [],
      "source": [
        "counts = pd.Series([632, 1638, 569, 115])\n",
        "counts"
      ]
    },
    {
      "cell_type": "markdown",
      "metadata": {
        "id": "Bg1PXbm9tK7v"
      },
      "source": [
        "If an index is not specified, a default sequence of integers is assigned as the index. A NumPy array comprises the values of the `Series`, while the index is a pandas `Index` object."
      ]
    },
    {
      "cell_type": "code",
      "execution_count": null,
      "metadata": {
        "collapsed": true,
        "id": "cULXmSi2tK7v"
      },
      "outputs": [],
      "source": [
        "counts.values"
      ]
    },
    {
      "cell_type": "markdown",
      "metadata": {
        "id": "aBwHFW5BtK7v"
      },
      "source": [
        "### Index Object"
      ]
    },
    {
      "cell_type": "markdown",
      "metadata": {
        "id": "34ZO8dOvtK7w"
      },
      "source": [
        "Pandas provides a labeled index to access the rows"
      ]
    },
    {
      "cell_type": "code",
      "execution_count": null,
      "metadata": {
        "collapsed": true,
        "id": "sMIHcex7tK7w"
      },
      "outputs": [],
      "source": [
        "counts.index"
      ]
    },
    {
      "cell_type": "markdown",
      "metadata": {
        "id": "NGyZBUx6tK7w"
      },
      "source": [
        "We can assign meaningful labels to the index, if they are available:"
      ]
    },
    {
      "cell_type": "code",
      "execution_count": null,
      "metadata": {
        "collapsed": true,
        "id": "x2WFDElRtK7w"
      },
      "outputs": [],
      "source": [
        "bacteria = pd.Series([632, 1638, 569, 115],\n",
        "                     index=['Firmicutes', 'Proteobacteria',\n",
        "                            'Actinobacteria', 'Bacteroidetes'])\n",
        "\n",
        "print(bacteria)\n",
        "print(bacteria.index)"
      ]
    },
    {
      "cell_type": "markdown",
      "metadata": {
        "id": "FtXVOwVDtK7w"
      },
      "source": [
        "NumPy's math functions and other operations can be applied to Series without losing the data structure."
      ]
    },
    {
      "cell_type": "code",
      "execution_count": null,
      "metadata": {
        "collapsed": true,
        "id": "5SVFWteptK7w"
      },
      "outputs": [],
      "source": [
        "np.log(bacteria)"
      ]
    },
    {
      "cell_type": "markdown",
      "metadata": {
        "id": "4DKKUisttK7w"
      },
      "source": [
        "* Creation from a dict\n",
        "* Returned in key-sorted order"
      ]
    },
    {
      "cell_type": "code",
      "execution_count": null,
      "metadata": {
        "collapsed": true,
        "id": "zT8OUUBttK7w"
      },
      "outputs": [],
      "source": [
        "bacteria_dict = {\n",
        "    'Firmicutes': 632,\n",
        "    'Proteobacteria': 1638,\n",
        "    'Actinobacteria': 569,\n",
        "    'Bacteroidetes': 115\n",
        "}\n",
        "\n",
        "pd.Series(bacteria_dict)"
      ]
    },
    {
      "cell_type": "markdown",
      "metadata": {
        "id": "HAjXQybjtK7x"
      },
      "source": [
        "## Pandas DataFrames\n",
        "\n",
        "Inevitably, we want to be able to store, view and manipulate data that is *multivariate*, where for every index there are multiple fields or columns of data, often of varying data type.\n",
        "\n",
        "A `DataFrame` is a tabular data structure, encapsulating multiple series like columns in a spreadsheet."
      ]
    },
    {
      "cell_type": "code",
      "execution_count": null,
      "metadata": {
        "collapsed": true,
        "id": "fj7EOOO-tK7x"
      },
      "outputs": [],
      "source": [
        "data = pd.DataFrame({'value': [632, 1638, 569, 115, 433, 1130, 754, 555],\n",
        "                     'patient': [1, 1, 1, 1, 2, 2, 2, 2],\n",
        "                     'phylum': ['Firmicutes', 'Proteobacteria', 'Actinobacteria',\n",
        "                                'Bacteroidetes', 'Firmicutes', 'Proteobacteria',\n",
        "                                'Actinobacteria', 'Bacteroidetes']})\n",
        "data"
      ]
    },
    {
      "cell_type": "markdown",
      "metadata": {
        "id": "VBuLQbWMtK7x"
      },
      "source": [
        "* We often will want to peak at the first few rows of a DataFrame\n",
        "* You can use `head` to do this"
      ]
    },
    {
      "cell_type": "code",
      "execution_count": null,
      "metadata": {
        "collapsed": true,
        "id": "syoqxKt1tK7x"
      },
      "outputs": [],
      "source": [
        "data.head()"
      ]
    },
    {
      "cell_type": "markdown",
      "metadata": {
        "id": "VdhoocyOtK7x"
      },
      "source": [
        "### Columns as an Index"
      ]
    },
    {
      "cell_type": "markdown",
      "metadata": {
        "id": "GoHwvZaotK7y"
      },
      "source": [
        "The first axis of a DataFrame also has an index that represent the labeled columns"
      ]
    },
    {
      "cell_type": "code",
      "execution_count": null,
      "metadata": {
        "collapsed": true,
        "id": "076HmWNitK7y"
      },
      "outputs": [],
      "source": [
        "data.columns"
      ]
    },
    {
      "cell_type": "markdown",
      "metadata": {
        "id": "0r2-tGgftK7y"
      },
      "source": [
        "## Reading and Writing Files"
      ]
    },
    {
      "cell_type": "markdown",
      "metadata": {
        "id": "8VqYJPh9tK7y"
      },
      "source": [
        "* Pandas provides sophisticated I/O functionality\n",
        "* `read_csv` is a highly optimized csv reader"
      ]
    },
    {
      "cell_type": "code",
      "execution_count": 5,
      "metadata": {
        "colab": {
          "base_uri": "https://localhost:8080/",
          "height": 206
        },
        "id": "AQR2Ho-MA9vp",
        "outputId": "adf731c0-ad13-42ce-b57b-315167b278d3"
      },
      "outputs": [
        {
          "data": {
            "text/html": [
              "\n",
              "  <div id=\"df-44a2545f-0b78-42d7-a3f8-06eb40db255c\" class=\"colab-df-container\">\n",
              "    <div>\n",
              "<style scoped>\n",
              "    .dataframe tbody tr th:only-of-type {\n",
              "        vertical-align: middle;\n",
              "    }\n",
              "\n",
              "    .dataframe tbody tr th {\n",
              "        vertical-align: top;\n",
              "    }\n",
              "\n",
              "    .dataframe thead th {\n",
              "        text-align: right;\n",
              "    }\n",
              "</style>\n",
              "<table border=\"1\" class=\"dataframe\">\n",
              "  <thead>\n",
              "    <tr style=\"text-align: right;\">\n",
              "      <th></th>\n",
              "      <th>CustomerID</th>\n",
              "      <th>Gender</th>\n",
              "      <th>Age</th>\n",
              "      <th>Annual Income (k$)</th>\n",
              "      <th>Spending Score (1-100)</th>\n",
              "    </tr>\n",
              "  </thead>\n",
              "  <tbody>\n",
              "    <tr>\n",
              "      <th>0</th>\n",
              "      <td>1</td>\n",
              "      <td>Male</td>\n",
              "      <td>19</td>\n",
              "      <td>15</td>\n",
              "      <td>39</td>\n",
              "    </tr>\n",
              "    <tr>\n",
              "      <th>1</th>\n",
              "      <td>2</td>\n",
              "      <td>Male</td>\n",
              "      <td>21</td>\n",
              "      <td>15</td>\n",
              "      <td>81</td>\n",
              "    </tr>\n",
              "    <tr>\n",
              "      <th>2</th>\n",
              "      <td>3</td>\n",
              "      <td>Female</td>\n",
              "      <td>20</td>\n",
              "      <td>16</td>\n",
              "      <td>6</td>\n",
              "    </tr>\n",
              "    <tr>\n",
              "      <th>3</th>\n",
              "      <td>4</td>\n",
              "      <td>Female</td>\n",
              "      <td>23</td>\n",
              "      <td>16</td>\n",
              "      <td>77</td>\n",
              "    </tr>\n",
              "    <tr>\n",
              "      <th>4</th>\n",
              "      <td>5</td>\n",
              "      <td>Female</td>\n",
              "      <td>31</td>\n",
              "      <td>17</td>\n",
              "      <td>40</td>\n",
              "    </tr>\n",
              "  </tbody>\n",
              "</table>\n",
              "</div>\n",
              "    <div class=\"colab-df-buttons\">\n",
              "\n",
              "  <div class=\"colab-df-container\">\n",
              "    <button class=\"colab-df-convert\" onclick=\"convertToInteractive('df-44a2545f-0b78-42d7-a3f8-06eb40db255c')\"\n",
              "            title=\"Convert this dataframe to an interactive table.\"\n",
              "            style=\"display:none;\">\n",
              "\n",
              "  <svg xmlns=\"http://www.w3.org/2000/svg\" height=\"24px\" viewBox=\"0 -960 960 960\">\n",
              "    <path d=\"M120-120v-720h720v720H120Zm60-500h600v-160H180v160Zm220 220h160v-160H400v160Zm0 220h160v-160H400v160ZM180-400h160v-160H180v160Zm440 0h160v-160H620v160ZM180-180h160v-160H180v160Zm440 0h160v-160H620v160Z\"/>\n",
              "  </svg>\n",
              "    </button>\n",
              "\n",
              "  <style>\n",
              "    .colab-df-container {\n",
              "      display:flex;\n",
              "      gap: 12px;\n",
              "    }\n",
              "\n",
              "    .colab-df-convert {\n",
              "      background-color: #E8F0FE;\n",
              "      border: none;\n",
              "      border-radius: 50%;\n",
              "      cursor: pointer;\n",
              "      display: none;\n",
              "      fill: #1967D2;\n",
              "      height: 32px;\n",
              "      padding: 0 0 0 0;\n",
              "      width: 32px;\n",
              "    }\n",
              "\n",
              "    .colab-df-convert:hover {\n",
              "      background-color: #E2EBFA;\n",
              "      box-shadow: 0px 1px 2px rgba(60, 64, 67, 0.3), 0px 1px 3px 1px rgba(60, 64, 67, 0.15);\n",
              "      fill: #174EA6;\n",
              "    }\n",
              "\n",
              "    .colab-df-buttons div {\n",
              "      margin-bottom: 4px;\n",
              "    }\n",
              "\n",
              "    [theme=dark] .colab-df-convert {\n",
              "      background-color: #3B4455;\n",
              "      fill: #D2E3FC;\n",
              "    }\n",
              "\n",
              "    [theme=dark] .colab-df-convert:hover {\n",
              "      background-color: #434B5C;\n",
              "      box-shadow: 0px 1px 3px 1px rgba(0, 0, 0, 0.15);\n",
              "      filter: drop-shadow(0px 1px 2px rgba(0, 0, 0, 0.3));\n",
              "      fill: #FFFFFF;\n",
              "    }\n",
              "  </style>\n",
              "\n",
              "    <script>\n",
              "      const buttonEl =\n",
              "        document.querySelector('#df-44a2545f-0b78-42d7-a3f8-06eb40db255c button.colab-df-convert');\n",
              "      buttonEl.style.display =\n",
              "        google.colab.kernel.accessAllowed ? 'block' : 'none';\n",
              "\n",
              "      async function convertToInteractive(key) {\n",
              "        const element = document.querySelector('#df-44a2545f-0b78-42d7-a3f8-06eb40db255c');\n",
              "        const dataTable =\n",
              "          await google.colab.kernel.invokeFunction('convertToInteractive',\n",
              "                                                    [key], {});\n",
              "        if (!dataTable) return;\n",
              "\n",
              "        const docLinkHtml = 'Like what you see? Visit the ' +\n",
              "          '<a target=\"_blank\" href=https://colab.research.google.com/notebooks/data_table.ipynb>data table notebook</a>'\n",
              "          + ' to learn more about interactive tables.';\n",
              "        element.innerHTML = '';\n",
              "        dataTable['output_type'] = 'display_data';\n",
              "        await google.colab.output.renderOutput(dataTable, element);\n",
              "        const docLink = document.createElement('div');\n",
              "        docLink.innerHTML = docLinkHtml;\n",
              "        element.appendChild(docLink);\n",
              "      }\n",
              "    </script>\n",
              "  </div>\n",
              "\n",
              "\n",
              "<div id=\"df-4c8a6439-90d9-4c7f-b6a1-4bc6134d1e9e\">\n",
              "  <button class=\"colab-df-quickchart\" onclick=\"quickchart('df-4c8a6439-90d9-4c7f-b6a1-4bc6134d1e9e')\"\n",
              "            title=\"Suggest charts\"\n",
              "            style=\"display:none;\">\n",
              "\n",
              "<svg xmlns=\"http://www.w3.org/2000/svg\" height=\"24px\"viewBox=\"0 0 24 24\"\n",
              "     width=\"24px\">\n",
              "    <g>\n",
              "        <path d=\"M19 3H5c-1.1 0-2 .9-2 2v14c0 1.1.9 2 2 2h14c1.1 0 2-.9 2-2V5c0-1.1-.9-2-2-2zM9 17H7v-7h2v7zm4 0h-2V7h2v10zm4 0h-2v-4h2v4z\"/>\n",
              "    </g>\n",
              "</svg>\n",
              "  </button>\n",
              "\n",
              "<style>\n",
              "  .colab-df-quickchart {\n",
              "      --bg-color: #E8F0FE;\n",
              "      --fill-color: #1967D2;\n",
              "      --hover-bg-color: #E2EBFA;\n",
              "      --hover-fill-color: #174EA6;\n",
              "      --disabled-fill-color: #AAA;\n",
              "      --disabled-bg-color: #DDD;\n",
              "  }\n",
              "\n",
              "  [theme=dark] .colab-df-quickchart {\n",
              "      --bg-color: #3B4455;\n",
              "      --fill-color: #D2E3FC;\n",
              "      --hover-bg-color: #434B5C;\n",
              "      --hover-fill-color: #FFFFFF;\n",
              "      --disabled-bg-color: #3B4455;\n",
              "      --disabled-fill-color: #666;\n",
              "  }\n",
              "\n",
              "  .colab-df-quickchart {\n",
              "    background-color: var(--bg-color);\n",
              "    border: none;\n",
              "    border-radius: 50%;\n",
              "    cursor: pointer;\n",
              "    display: none;\n",
              "    fill: var(--fill-color);\n",
              "    height: 32px;\n",
              "    padding: 0;\n",
              "    width: 32px;\n",
              "  }\n",
              "\n",
              "  .colab-df-quickchart:hover {\n",
              "    background-color: var(--hover-bg-color);\n",
              "    box-shadow: 0 1px 2px rgba(60, 64, 67, 0.3), 0 1px 3px 1px rgba(60, 64, 67, 0.15);\n",
              "    fill: var(--button-hover-fill-color);\n",
              "  }\n",
              "\n",
              "  .colab-df-quickchart-complete:disabled,\n",
              "  .colab-df-quickchart-complete:disabled:hover {\n",
              "    background-color: var(--disabled-bg-color);\n",
              "    fill: var(--disabled-fill-color);\n",
              "    box-shadow: none;\n",
              "  }\n",
              "\n",
              "  .colab-df-spinner {\n",
              "    border: 2px solid var(--fill-color);\n",
              "    border-color: transparent;\n",
              "    border-bottom-color: var(--fill-color);\n",
              "    animation:\n",
              "      spin 1s steps(1) infinite;\n",
              "  }\n",
              "\n",
              "  @keyframes spin {\n",
              "    0% {\n",
              "      border-color: transparent;\n",
              "      border-bottom-color: var(--fill-color);\n",
              "      border-left-color: var(--fill-color);\n",
              "    }\n",
              "    20% {\n",
              "      border-color: transparent;\n",
              "      border-left-color: var(--fill-color);\n",
              "      border-top-color: var(--fill-color);\n",
              "    }\n",
              "    30% {\n",
              "      border-color: transparent;\n",
              "      border-left-color: var(--fill-color);\n",
              "      border-top-color: var(--fill-color);\n",
              "      border-right-color: var(--fill-color);\n",
              "    }\n",
              "    40% {\n",
              "      border-color: transparent;\n",
              "      border-right-color: var(--fill-color);\n",
              "      border-top-color: var(--fill-color);\n",
              "    }\n",
              "    60% {\n",
              "      border-color: transparent;\n",
              "      border-right-color: var(--fill-color);\n",
              "    }\n",
              "    80% {\n",
              "      border-color: transparent;\n",
              "      border-right-color: var(--fill-color);\n",
              "      border-bottom-color: var(--fill-color);\n",
              "    }\n",
              "    90% {\n",
              "      border-color: transparent;\n",
              "      border-bottom-color: var(--fill-color);\n",
              "    }\n",
              "  }\n",
              "</style>\n",
              "\n",
              "  <script>\n",
              "    async function quickchart(key) {\n",
              "      const quickchartButtonEl =\n",
              "        document.querySelector('#' + key + ' button');\n",
              "      quickchartButtonEl.disabled = true;  // To prevent multiple clicks.\n",
              "      quickchartButtonEl.classList.add('colab-df-spinner');\n",
              "      try {\n",
              "        const charts = await google.colab.kernel.invokeFunction(\n",
              "            'suggestCharts', [key], {});\n",
              "      } catch (error) {\n",
              "        console.error('Error during call to suggestCharts:', error);\n",
              "      }\n",
              "      quickchartButtonEl.classList.remove('colab-df-spinner');\n",
              "      quickchartButtonEl.classList.add('colab-df-quickchart-complete');\n",
              "    }\n",
              "    (() => {\n",
              "      let quickchartButtonEl =\n",
              "        document.querySelector('#df-4c8a6439-90d9-4c7f-b6a1-4bc6134d1e9e button');\n",
              "      quickchartButtonEl.style.display =\n",
              "        google.colab.kernel.accessAllowed ? 'block' : 'none';\n",
              "    })();\n",
              "  </script>\n",
              "</div>\n",
              "    </div>\n",
              "  </div>\n"
            ],
            "text/plain": [
              "   CustomerID  Gender  Age  Annual Income (k$)  Spending Score (1-100)\n",
              "0           1    Male   19                  15                      39\n",
              "1           2    Male   21                  15                      81\n",
              "2           3  Female   20                  16                       6\n",
              "3           4  Female   23                  16                      77\n",
              "4           5  Female   31                  17                      40"
            ]
          },
          "execution_count": 5,
          "metadata": {},
          "output_type": "execute_result"
        }
      ],
      "source": [
        "input_data = pd.read_csv(\"sample_data/Mall_Customers.csv\")\n",
        "input_data.head()"
      ]
    },
    {
      "cell_type": "code",
      "execution_count": 6,
      "metadata": {
        "colab": {
          "base_uri": "https://localhost:8080/"
        },
        "id": "5oQnzJKkBdUd",
        "outputId": "85537f95-990d-4dbb-d240-b9bfdf7f361c"
      },
      "outputs": [
        {
          "name": "stdout",
          "output_type": "stream",
          "text": [
            "<class 'pandas.core.frame.DataFrame'>\n",
            "RangeIndex: 200 entries, 0 to 199\n",
            "Data columns (total 5 columns):\n",
            " #   Column                  Non-Null Count  Dtype \n",
            "---  ------                  --------------  ----- \n",
            " 0   CustomerID              200 non-null    int64 \n",
            " 1   Gender                  200 non-null    object\n",
            " 2   Age                     200 non-null    int64 \n",
            " 3   Annual Income (k$)      200 non-null    int64 \n",
            " 4   Spending Score (1-100)  200 non-null    int64 \n",
            "dtypes: int64(4), object(1)\n",
            "memory usage: 7.9+ KB\n"
          ]
        }
      ],
      "source": [
        "input_data.info()"
      ]
    },
    {
      "cell_type": "markdown",
      "metadata": {
        "id": "D_eErHktCIWB"
      },
      "source": [
        "**K-Means Algorithm**"
      ]
    },
    {
      "cell_type": "code",
      "execution_count": 8,
      "metadata": {
        "id": "VB2yhqVe_0wJ"
      },
      "outputs": [],
      "source": [
        "from matplotlib import pyplot as plt\n",
        "import seaborn as sns\n",
        "\n",
        "from sklearn.cluster import KMeans"
      ]
    },
    {
      "cell_type": "code",
      "execution_count": 7,
      "metadata": {
        "colab": {
          "base_uri": "https://localhost:8080/",
          "height": 424
        },
        "id": "BhL6S58pBoZ0",
        "outputId": "389945cf-76ae-4358-d12f-b9893ed97e30"
      },
      "outputs": [
        {
          "data": {
            "text/html": [
              "\n",
              "  <div id=\"df-2aca5533-4b87-490e-bb1d-c9549831290f\" class=\"colab-df-container\">\n",
              "    <div>\n",
              "<style scoped>\n",
              "    .dataframe tbody tr th:only-of-type {\n",
              "        vertical-align: middle;\n",
              "    }\n",
              "\n",
              "    .dataframe tbody tr th {\n",
              "        vertical-align: top;\n",
              "    }\n",
              "\n",
              "    .dataframe thead th {\n",
              "        text-align: right;\n",
              "    }\n",
              "</style>\n",
              "<table border=\"1\" class=\"dataframe\">\n",
              "  <thead>\n",
              "    <tr style=\"text-align: right;\">\n",
              "      <th></th>\n",
              "      <th>Age</th>\n",
              "      <th>Annual Income (k$)</th>\n",
              "      <th>Spending Score (1-100)</th>\n",
              "      <th>Gender_Female</th>\n",
              "      <th>Gender_Male</th>\n",
              "    </tr>\n",
              "  </thead>\n",
              "  <tbody>\n",
              "    <tr>\n",
              "      <th>0</th>\n",
              "      <td>19</td>\n",
              "      <td>15</td>\n",
              "      <td>39</td>\n",
              "      <td>0</td>\n",
              "      <td>1</td>\n",
              "    </tr>\n",
              "    <tr>\n",
              "      <th>1</th>\n",
              "      <td>21</td>\n",
              "      <td>15</td>\n",
              "      <td>81</td>\n",
              "      <td>0</td>\n",
              "      <td>1</td>\n",
              "    </tr>\n",
              "    <tr>\n",
              "      <th>2</th>\n",
              "      <td>20</td>\n",
              "      <td>16</td>\n",
              "      <td>6</td>\n",
              "      <td>1</td>\n",
              "      <td>0</td>\n",
              "    </tr>\n",
              "    <tr>\n",
              "      <th>3</th>\n",
              "      <td>23</td>\n",
              "      <td>16</td>\n",
              "      <td>77</td>\n",
              "      <td>1</td>\n",
              "      <td>0</td>\n",
              "    </tr>\n",
              "    <tr>\n",
              "      <th>4</th>\n",
              "      <td>31</td>\n",
              "      <td>17</td>\n",
              "      <td>40</td>\n",
              "      <td>1</td>\n",
              "      <td>0</td>\n",
              "    </tr>\n",
              "    <tr>\n",
              "      <th>...</th>\n",
              "      <td>...</td>\n",
              "      <td>...</td>\n",
              "      <td>...</td>\n",
              "      <td>...</td>\n",
              "      <td>...</td>\n",
              "    </tr>\n",
              "    <tr>\n",
              "      <th>195</th>\n",
              "      <td>35</td>\n",
              "      <td>120</td>\n",
              "      <td>79</td>\n",
              "      <td>1</td>\n",
              "      <td>0</td>\n",
              "    </tr>\n",
              "    <tr>\n",
              "      <th>196</th>\n",
              "      <td>45</td>\n",
              "      <td>126</td>\n",
              "      <td>28</td>\n",
              "      <td>1</td>\n",
              "      <td>0</td>\n",
              "    </tr>\n",
              "    <tr>\n",
              "      <th>197</th>\n",
              "      <td>32</td>\n",
              "      <td>126</td>\n",
              "      <td>74</td>\n",
              "      <td>0</td>\n",
              "      <td>1</td>\n",
              "    </tr>\n",
              "    <tr>\n",
              "      <th>198</th>\n",
              "      <td>32</td>\n",
              "      <td>137</td>\n",
              "      <td>18</td>\n",
              "      <td>0</td>\n",
              "      <td>1</td>\n",
              "    </tr>\n",
              "    <tr>\n",
              "      <th>199</th>\n",
              "      <td>30</td>\n",
              "      <td>137</td>\n",
              "      <td>83</td>\n",
              "      <td>0</td>\n",
              "      <td>1</td>\n",
              "    </tr>\n",
              "  </tbody>\n",
              "</table>\n",
              "<p>200 rows × 5 columns</p>\n",
              "</div>\n",
              "    <div class=\"colab-df-buttons\">\n",
              "\n",
              "  <div class=\"colab-df-container\">\n",
              "    <button class=\"colab-df-convert\" onclick=\"convertToInteractive('df-2aca5533-4b87-490e-bb1d-c9549831290f')\"\n",
              "            title=\"Convert this dataframe to an interactive table.\"\n",
              "            style=\"display:none;\">\n",
              "\n",
              "  <svg xmlns=\"http://www.w3.org/2000/svg\" height=\"24px\" viewBox=\"0 -960 960 960\">\n",
              "    <path d=\"M120-120v-720h720v720H120Zm60-500h600v-160H180v160Zm220 220h160v-160H400v160Zm0 220h160v-160H400v160ZM180-400h160v-160H180v160Zm440 0h160v-160H620v160ZM180-180h160v-160H180v160Zm440 0h160v-160H620v160Z\"/>\n",
              "  </svg>\n",
              "    </button>\n",
              "\n",
              "  <style>\n",
              "    .colab-df-container {\n",
              "      display:flex;\n",
              "      gap: 12px;\n",
              "    }\n",
              "\n",
              "    .colab-df-convert {\n",
              "      background-color: #E8F0FE;\n",
              "      border: none;\n",
              "      border-radius: 50%;\n",
              "      cursor: pointer;\n",
              "      display: none;\n",
              "      fill: #1967D2;\n",
              "      height: 32px;\n",
              "      padding: 0 0 0 0;\n",
              "      width: 32px;\n",
              "    }\n",
              "\n",
              "    .colab-df-convert:hover {\n",
              "      background-color: #E2EBFA;\n",
              "      box-shadow: 0px 1px 2px rgba(60, 64, 67, 0.3), 0px 1px 3px 1px rgba(60, 64, 67, 0.15);\n",
              "      fill: #174EA6;\n",
              "    }\n",
              "\n",
              "    .colab-df-buttons div {\n",
              "      margin-bottom: 4px;\n",
              "    }\n",
              "\n",
              "    [theme=dark] .colab-df-convert {\n",
              "      background-color: #3B4455;\n",
              "      fill: #D2E3FC;\n",
              "    }\n",
              "\n",
              "    [theme=dark] .colab-df-convert:hover {\n",
              "      background-color: #434B5C;\n",
              "      box-shadow: 0px 1px 3px 1px rgba(0, 0, 0, 0.15);\n",
              "      filter: drop-shadow(0px 1px 2px rgba(0, 0, 0, 0.3));\n",
              "      fill: #FFFFFF;\n",
              "    }\n",
              "  </style>\n",
              "\n",
              "    <script>\n",
              "      const buttonEl =\n",
              "        document.querySelector('#df-2aca5533-4b87-490e-bb1d-c9549831290f button.colab-df-convert');\n",
              "      buttonEl.style.display =\n",
              "        google.colab.kernel.accessAllowed ? 'block' : 'none';\n",
              "\n",
              "      async function convertToInteractive(key) {\n",
              "        const element = document.querySelector('#df-2aca5533-4b87-490e-bb1d-c9549831290f');\n",
              "        const dataTable =\n",
              "          await google.colab.kernel.invokeFunction('convertToInteractive',\n",
              "                                                    [key], {});\n",
              "        if (!dataTable) return;\n",
              "\n",
              "        const docLinkHtml = 'Like what you see? Visit the ' +\n",
              "          '<a target=\"_blank\" href=https://colab.research.google.com/notebooks/data_table.ipynb>data table notebook</a>'\n",
              "          + ' to learn more about interactive tables.';\n",
              "        element.innerHTML = '';\n",
              "        dataTable['output_type'] = 'display_data';\n",
              "        await google.colab.output.renderOutput(dataTable, element);\n",
              "        const docLink = document.createElement('div');\n",
              "        docLink.innerHTML = docLinkHtml;\n",
              "        element.appendChild(docLink);\n",
              "      }\n",
              "    </script>\n",
              "  </div>\n",
              "\n",
              "\n",
              "<div id=\"df-f2033023-f654-4162-8460-476f624d42ff\">\n",
              "  <button class=\"colab-df-quickchart\" onclick=\"quickchart('df-f2033023-f654-4162-8460-476f624d42ff')\"\n",
              "            title=\"Suggest charts\"\n",
              "            style=\"display:none;\">\n",
              "\n",
              "<svg xmlns=\"http://www.w3.org/2000/svg\" height=\"24px\"viewBox=\"0 0 24 24\"\n",
              "     width=\"24px\">\n",
              "    <g>\n",
              "        <path d=\"M19 3H5c-1.1 0-2 .9-2 2v14c0 1.1.9 2 2 2h14c1.1 0 2-.9 2-2V5c0-1.1-.9-2-2-2zM9 17H7v-7h2v7zm4 0h-2V7h2v10zm4 0h-2v-4h2v4z\"/>\n",
              "    </g>\n",
              "</svg>\n",
              "  </button>\n",
              "\n",
              "<style>\n",
              "  .colab-df-quickchart {\n",
              "      --bg-color: #E8F0FE;\n",
              "      --fill-color: #1967D2;\n",
              "      --hover-bg-color: #E2EBFA;\n",
              "      --hover-fill-color: #174EA6;\n",
              "      --disabled-fill-color: #AAA;\n",
              "      --disabled-bg-color: #DDD;\n",
              "  }\n",
              "\n",
              "  [theme=dark] .colab-df-quickchart {\n",
              "      --bg-color: #3B4455;\n",
              "      --fill-color: #D2E3FC;\n",
              "      --hover-bg-color: #434B5C;\n",
              "      --hover-fill-color: #FFFFFF;\n",
              "      --disabled-bg-color: #3B4455;\n",
              "      --disabled-fill-color: #666;\n",
              "  }\n",
              "\n",
              "  .colab-df-quickchart {\n",
              "    background-color: var(--bg-color);\n",
              "    border: none;\n",
              "    border-radius: 50%;\n",
              "    cursor: pointer;\n",
              "    display: none;\n",
              "    fill: var(--fill-color);\n",
              "    height: 32px;\n",
              "    padding: 0;\n",
              "    width: 32px;\n",
              "  }\n",
              "\n",
              "  .colab-df-quickchart:hover {\n",
              "    background-color: var(--hover-bg-color);\n",
              "    box-shadow: 0 1px 2px rgba(60, 64, 67, 0.3), 0 1px 3px 1px rgba(60, 64, 67, 0.15);\n",
              "    fill: var(--button-hover-fill-color);\n",
              "  }\n",
              "\n",
              "  .colab-df-quickchart-complete:disabled,\n",
              "  .colab-df-quickchart-complete:disabled:hover {\n",
              "    background-color: var(--disabled-bg-color);\n",
              "    fill: var(--disabled-fill-color);\n",
              "    box-shadow: none;\n",
              "  }\n",
              "\n",
              "  .colab-df-spinner {\n",
              "    border: 2px solid var(--fill-color);\n",
              "    border-color: transparent;\n",
              "    border-bottom-color: var(--fill-color);\n",
              "    animation:\n",
              "      spin 1s steps(1) infinite;\n",
              "  }\n",
              "\n",
              "  @keyframes spin {\n",
              "    0% {\n",
              "      border-color: transparent;\n",
              "      border-bottom-color: var(--fill-color);\n",
              "      border-left-color: var(--fill-color);\n",
              "    }\n",
              "    20% {\n",
              "      border-color: transparent;\n",
              "      border-left-color: var(--fill-color);\n",
              "      border-top-color: var(--fill-color);\n",
              "    }\n",
              "    30% {\n",
              "      border-color: transparent;\n",
              "      border-left-color: var(--fill-color);\n",
              "      border-top-color: var(--fill-color);\n",
              "      border-right-color: var(--fill-color);\n",
              "    }\n",
              "    40% {\n",
              "      border-color: transparent;\n",
              "      border-right-color: var(--fill-color);\n",
              "      border-top-color: var(--fill-color);\n",
              "    }\n",
              "    60% {\n",
              "      border-color: transparent;\n",
              "      border-right-color: var(--fill-color);\n",
              "    }\n",
              "    80% {\n",
              "      border-color: transparent;\n",
              "      border-right-color: var(--fill-color);\n",
              "      border-bottom-color: var(--fill-color);\n",
              "    }\n",
              "    90% {\n",
              "      border-color: transparent;\n",
              "      border-bottom-color: var(--fill-color);\n",
              "    }\n",
              "  }\n",
              "</style>\n",
              "\n",
              "  <script>\n",
              "    async function quickchart(key) {\n",
              "      const quickchartButtonEl =\n",
              "        document.querySelector('#' + key + ' button');\n",
              "      quickchartButtonEl.disabled = true;  // To prevent multiple clicks.\n",
              "      quickchartButtonEl.classList.add('colab-df-spinner');\n",
              "      try {\n",
              "        const charts = await google.colab.kernel.invokeFunction(\n",
              "            'suggestCharts', [key], {});\n",
              "      } catch (error) {\n",
              "        console.error('Error during call to suggestCharts:', error);\n",
              "      }\n",
              "      quickchartButtonEl.classList.remove('colab-df-spinner');\n",
              "      quickchartButtonEl.classList.add('colab-df-quickchart-complete');\n",
              "    }\n",
              "    (() => {\n",
              "      let quickchartButtonEl =\n",
              "        document.querySelector('#df-f2033023-f654-4162-8460-476f624d42ff button');\n",
              "      quickchartButtonEl.style.display =\n",
              "        google.colab.kernel.accessAllowed ? 'block' : 'none';\n",
              "    })();\n",
              "  </script>\n",
              "</div>\n",
              "    </div>\n",
              "  </div>\n"
            ],
            "text/plain": [
              "     Age  Annual Income (k$)  Spending Score (1-100)  Gender_Female  \\\n",
              "0     19                  15                      39              0   \n",
              "1     21                  15                      81              0   \n",
              "2     20                  16                       6              1   \n",
              "3     23                  16                      77              1   \n",
              "4     31                  17                      40              1   \n",
              "..   ...                 ...                     ...            ...   \n",
              "195   35                 120                      79              1   \n",
              "196   45                 126                      28              1   \n",
              "197   32                 126                      74              0   \n",
              "198   32                 137                      18              0   \n",
              "199   30                 137                      83              0   \n",
              "\n",
              "     Gender_Male  \n",
              "0              1  \n",
              "1              1  \n",
              "2              0  \n",
              "3              0  \n",
              "4              0  \n",
              "..           ...  \n",
              "195            0  \n",
              "196            0  \n",
              "197            1  \n",
              "198            1  \n",
              "199            1  \n",
              "\n",
              "[200 rows x 5 columns]"
            ]
          },
          "execution_count": 7,
          "metadata": {},
          "output_type": "execute_result"
        }
      ],
      "source": [
        "input_data = pd.get_dummies(input_data)\n",
        "input_data = input_data.drop(['CustomerID'], axis = 1)\n",
        "input_data"
      ]
    },
    {
      "cell_type": "code",
      "execution_count": 10,
      "metadata": {
        "colab": {
          "base_uri": "https://localhost:8080/"
        },
        "id": "uQiDBSO8B5Rs",
        "outputId": "8c201e1b-cac0-463c-eb9d-343f47031df9"
      },
      "outputs": [
        {
          "data": {
            "text/plain": [
              "array([3, 3, 1, 3, 1, 3, 1, 3, 1, 3, 1, 3, 1, 3, 1, 3, 1, 3, 1, 3, 1, 3,\n",
              "       1, 3, 1, 3, 1, 3, 1, 3, 1, 3, 1, 3, 1, 3, 1, 3, 1, 3, 1, 3, 1, 3,\n",
              "       1, 3, 1, 1, 1, 1, 1, 3, 1, 1, 1, 1, 1, 1, 1, 1, 1, 3, 1, 1, 1, 3,\n",
              "       1, 1, 3, 1, 1, 1, 1, 1, 1, 1, 1, 1, 1, 1, 1, 1, 1, 1, 1, 1, 1, 1,\n",
              "       1, 1, 1, 1, 1, 1, 1, 1, 1, 1, 1, 1, 1, 1, 1, 1, 1, 1, 1, 1, 1, 1,\n",
              "       1, 1, 1, 1, 1, 1, 1, 1, 1, 1, 1, 1, 1, 0, 2, 0, 2, 0, 2, 0, 2, 0,\n",
              "       2, 0, 2, 0, 2, 0, 2, 0, 2, 0, 2, 0, 2, 0, 2, 0, 2, 0, 2, 0, 2, 0,\n",
              "       2, 0, 2, 0, 2, 0, 2, 0, 2, 0, 2, 0, 2, 0, 2, 0, 2, 0, 2, 0, 2, 0,\n",
              "       2, 0, 2, 0, 2, 0, 2, 0, 2, 0, 2, 0, 2, 0, 2, 0, 2, 0, 2, 0, 2, 0,\n",
              "       2, 0], dtype=int32)"
            ]
          },
          "execution_count": 10,
          "metadata": {},
          "output_type": "execute_result"
        }
      ],
      "source": [
        "#instantiate the k-means class, using optimal number of clusters\n",
        "kmeans = KMeans(init=\"random\", n_clusters=4, n_init=10, random_state=1)\n",
        "\n",
        "#fit k-means algorithm to data\n",
        "kmeans.fit(input_data)\n",
        "\n",
        "#view cluster assignments for each observation\n",
        "kmeans.labels_"
      ]
    },
    {
      "cell_type": "markdown",
      "metadata": {
        "id": "PpmDKtoptK7z"
      },
      "source": [
        "---"
      ]
    }
  ],
  "metadata": {
    "anaconda-cloud": {},
    "colab": {
      "provenance": []
    },
    "kernelspec": {
      "display_name": "Python 3",
      "language": "python",
      "name": "python3"
    },
    "language_info": {
      "codemirror_mode": {
        "name": "ipython",
        "version": 3
      },
      "file_extension": ".py",
      "mimetype": "text/x-python",
      "name": "python",
      "nbconvert_exporter": "python",
      "pygments_lexer": "ipython3",
      "version": "3.11.4"
    },
    "toc": {
      "colors": {
        "hover_highlight": "#DAA520",
        "running_highlight": "#FF0000",
        "selected_highlight": "#FFD700"
      },
      "moveMenuLeft": true,
      "nav_menu": {
        "height": "228px",
        "width": "252px"
      },
      "navigate_menu": true,
      "number_sections": true,
      "sideBar": true,
      "threshold": "2",
      "toc_cell": true,
      "toc_position": {
        "height": "640px",
        "left": "0px",
        "right": "auto",
        "top": "106px",
        "width": "212px"
      },
      "toc_section_display": "block",
      "toc_window_display": true,
      "widenNotebook": false
    }
  },
  "nbformat": 4,
  "nbformat_minor": 0
}
